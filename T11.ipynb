{
 "cells": [
  {
   "cell_type": "code",
   "execution_count": 1,
   "id": "2bd926d1",
   "metadata": {},
   "outputs": [],
   "source": [
    "import pandas as pd\n",
    "import matplotlib\n",
    "import os\n",
    "import sys\n",
    "%matplotlib inline"
   ]
  },
  {
   "cell_type": "code",
   "execution_count": 2,
   "id": "9471aea9",
   "metadata": {},
   "outputs": [
    {
     "name": "stdout",
     "output_type": "stream",
     "text": [
      "Python version 3.8.8 (default, Apr 13 2021, 15:08:03) [MSC v.1916 64 bit (AMD64)]\n",
      "Pandas version 1.2.4\n",
      "Matplotlib version 3.3.4\n"
     ]
    }
   ],
   "source": [
    "print('Python version ' + sys.version)\n",
    "print('Pandas version ' + pd.__version__)\n",
    "print('Matplotlib version ' + matplotlib.__version__)"
   ]
  },
  {
   "cell_type": "code",
   "execution_count": 3,
   "id": "48395250",
   "metadata": {},
   "outputs": [
    {
     "data": {
      "text/html": [
       "<div>\n",
       "<style scoped>\n",
       "    .dataframe tbody tr th:only-of-type {\n",
       "        vertical-align: middle;\n",
       "    }\n",
       "\n",
       "    .dataframe tbody tr th {\n",
       "        vertical-align: top;\n",
       "    }\n",
       "\n",
       "    .dataframe thead th {\n",
       "        text-align: right;\n",
       "    }\n",
       "</style>\n",
       "<table border=\"1\" class=\"dataframe\">\n",
       "  <thead>\n",
       "    <tr style=\"text-align: right;\">\n",
       "      <th></th>\n",
       "      <th>Channel</th>\n",
       "      <th>Number</th>\n",
       "    </tr>\n",
       "  </thead>\n",
       "  <tbody>\n",
       "    <tr>\n",
       "      <th>0</th>\n",
       "      <td>1</td>\n",
       "      <td>255</td>\n",
       "    </tr>\n",
       "  </tbody>\n",
       "</table>\n",
       "</div>"
      ],
      "text/plain": [
       "   Channel  Number\n",
       "0        1     255"
      ]
     },
     "execution_count": 3,
     "metadata": {},
     "output_type": "execute_result"
    }
   ],
   "source": [
    "# Create DataFrame\n",
    "d = {'Channel':[1], 'Number':[255]}\n",
    "df = pd.DataFrame(d)\n",
    "df"
   ]
  },
  {
   "cell_type": "code",
   "execution_count": 4,
   "id": "29d6144a",
   "metadata": {},
   "outputs": [
    {
     "name": "stdout",
     "output_type": "stream",
     "text": [
      "Done\n"
     ]
    }
   ],
   "source": [
    "# Export to Excel\n",
    "\n",
    "df.to_excel('test1.xlsx', sheet_name = 'test1', index = False)\n",
    "df.to_excel('test2.xlsx', sheet_name = 'test2', index = False)\n",
    "df.to_excel('test3.xlsx', sheet_name = 'test3', index = False)\n",
    "print('Done')"
   ]
  },
  {
   "cell_type": "code",
   "execution_count": 14,
   "id": "3317e474",
   "metadata": {},
   "outputs": [
    {
     "data": {
      "text/plain": [
       "['test1.xlsx', 'test2.xlsx', 'test3.xlsx']"
      ]
     },
     "execution_count": 14,
     "metadata": {},
     "output_type": "execute_result"
    }
   ],
   "source": [
    "# List to hold file names\n",
    "FileNames = []\n",
    "\n",
    "# Your path will be different, please modify the path below.\n",
    "os.chdir(r\"C:\\Users\\farhan.khalid\\Downloads\\Pandas Training\")\n",
    "\n",
    "# Find any file that ends with \".xlsx\"\n",
    "for files in os.listdir(\".\"):\n",
    "    if files.endswith(\".xlsx\"):\n",
    "        FileNames.append(files)\n",
    "        \n",
    "FileNames"
   ]
  },
  {
   "cell_type": "code",
   "execution_count": 15,
   "id": "3360fff6",
   "metadata": {},
   "outputs": [],
   "source": [
    "def GetFile(fnombre):\n",
    "\n",
    "    # Path to excel file\n",
    "    # Your path will be different, please modify the path below.\n",
    "    location = r'C:\\Users\\farhan.khalid\\Downloads\\Pandas Training\\\\' + fnombre\n",
    "    \n",
    "    # Parse the excel file\n",
    "    # 0 = first sheet\n",
    "    df = pd.read_excel(location, 0)\n",
    "    \n",
    "    # Tag record to file name\n",
    "    df['File'] = fnombre\n",
    "    \n",
    "    # Make the \"File\" column the index of the df\n",
    "    return df.set_index(['File'])"
   ]
  },
  {
   "cell_type": "code",
   "execution_count": 16,
   "id": "5d325e42",
   "metadata": {},
   "outputs": [
    {
     "data": {
      "text/plain": [
       "[            Channel  Number\n",
       " File                       \n",
       " test1.xlsx        1     255,\n",
       "             Channel  Number\n",
       " File                       \n",
       " test2.xlsx        1     255,\n",
       "             Channel  Number\n",
       " File                       \n",
       " test3.xlsx        1     255]"
      ]
     },
     "execution_count": 16,
     "metadata": {},
     "output_type": "execute_result"
    }
   ],
   "source": [
    "# Create a list of dataframes\n",
    "df_list = [GetFile(fname) for fname in FileNames]\n",
    "df_list"
   ]
  },
  {
   "cell_type": "code",
   "execution_count": 17,
   "id": "f572cbe4",
   "metadata": {},
   "outputs": [
    {
     "data": {
      "text/html": [
       "<div>\n",
       "<style scoped>\n",
       "    .dataframe tbody tr th:only-of-type {\n",
       "        vertical-align: middle;\n",
       "    }\n",
       "\n",
       "    .dataframe tbody tr th {\n",
       "        vertical-align: top;\n",
       "    }\n",
       "\n",
       "    .dataframe thead th {\n",
       "        text-align: right;\n",
       "    }\n",
       "</style>\n",
       "<table border=\"1\" class=\"dataframe\">\n",
       "  <thead>\n",
       "    <tr style=\"text-align: right;\">\n",
       "      <th></th>\n",
       "      <th>Channel</th>\n",
       "      <th>Number</th>\n",
       "    </tr>\n",
       "    <tr>\n",
       "      <th>File</th>\n",
       "      <th></th>\n",
       "      <th></th>\n",
       "    </tr>\n",
       "  </thead>\n",
       "  <tbody>\n",
       "    <tr>\n",
       "      <th>test1.xlsx</th>\n",
       "      <td>1</td>\n",
       "      <td>255</td>\n",
       "    </tr>\n",
       "    <tr>\n",
       "      <th>test2.xlsx</th>\n",
       "      <td>1</td>\n",
       "      <td>255</td>\n",
       "    </tr>\n",
       "    <tr>\n",
       "      <th>test3.xlsx</th>\n",
       "      <td>1</td>\n",
       "      <td>255</td>\n",
       "    </tr>\n",
       "  </tbody>\n",
       "</table>\n",
       "</div>"
      ],
      "text/plain": [
       "            Channel  Number\n",
       "File                       \n",
       "test1.xlsx        1     255\n",
       "test2.xlsx        1     255\n",
       "test3.xlsx        1     255"
      ]
     },
     "execution_count": 17,
     "metadata": {},
     "output_type": "execute_result"
    }
   ],
   "source": [
    "# Combine all of the dataframes into one\n",
    "big_df = pd.concat(df_list)\n",
    "big_df"
   ]
  },
  {
   "cell_type": "code",
   "execution_count": 18,
   "id": "25ba6284",
   "metadata": {},
   "outputs": [
    {
     "data": {
      "text/plain": [
       "Channel    int64\n",
       "Number     int64\n",
       "dtype: object"
      ]
     },
     "execution_count": 18,
     "metadata": {},
     "output_type": "execute_result"
    }
   ],
   "source": [
    "big_df.dtypes"
   ]
  },
  {
   "cell_type": "code",
   "execution_count": 19,
   "id": "b55d5d7c",
   "metadata": {},
   "outputs": [
    {
     "data": {
      "image/png": "[encoded data removed]",
      "text/plain": [
       "<Figure size 432x288 with 1 Axes>"
      ]
     },
     "metadata": {
      "needs_background": "light"
     },
     "output_type": "display_data"
    }
   ],
   "source": [
    "# Plot it!\n",
    "big_df['Channel'].plot.bar();"
   ]
  }
 ],
 "metadata": {
  "kernelspec": {
   "display_name": "Python 3",
   "language": "python",
   "name": "python3"
  },
  "language_info": {
   "codemirror_mode": {
    "name": "ipython",
    "version": 3
   },
   "file_extension": ".py",
   "mimetype": "text/x-python",
   "name": "python",
   "nbconvert_exporter": "python",
   "pygments_lexer": "ipython3",
   "version": "3.8.8"
  }
 },
 "nbformat": 4,
 "nbformat_minor": 5
}
